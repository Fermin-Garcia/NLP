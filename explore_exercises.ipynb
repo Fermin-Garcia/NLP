{
 "cells": [
  {
   "cell_type": "markdown",
   "id": "d2a47442-6534-4df8-a9fa-01c24af95b9a",
   "metadata": {},
   "source": [
    "# Do your work for this exercise in a file named explore."
   ]
  },
  {
   "cell_type": "markdown",
   "id": "4ed9c874-2b69-4cab-9223-a63b406f8af4",
   "metadata": {},
   "source": [
    "### Spam Data"
   ]
  },
  {
   "cell_type": "markdown",
   "id": "83200fb9-5194-4644-a1a4-5d0caa7a55f6",
   "metadata": {},
   "source": [
    "### Load the spam data set."
   ]
  },
  {
   "cell_type": "markdown",
   "id": "44379319-7c33-4ffb-acf0-4d11bc0cb865",
   "metadata": {},
   "source": [
    "### Create and explore bigrams for the spam data. Visualize them with a word cloud. How do they compare with the ham bigrams?"
   ]
  },
  {
   "cell_type": "markdown",
   "id": "0a1473a5-8ba1-4745-9352-d9c632a81b91",
   "metadata": {},
   "source": [
    "### Is there any overlap in the bigrams for the spam data and the ham data?"
   ]
  },
  {
   "cell_type": "markdown",
   "id": "454df4cb-202b-4073-af60-3470bcc22631",
   "metadata": {},
   "source": [
    "### Create and explore with trigrams (i.e. a n-gram with an n of 3) for both the spam and ham data."
   ]
  },
  {
   "cell_type": "markdown",
   "id": "c936e2bf-20e5-431d-804a-5a4e7fdf66a3",
   "metadata": {},
   "source": [
    "### Explore the blog articles using the techniques discussed in the exploration lesson."
   ]
  },
  {
   "cell_type": "markdown",
   "id": "2950a35a-ea64-403b-95a7-482a33949d0c",
   "metadata": {},
   "source": [
    "### Explore the news articles using the techniques discussed in the exploration lesson. Use the category variable when exploring."
   ]
  }
 ],
 "metadata": {
  "kernelspec": {
   "display_name": "Python 3 (ipykernel)",
   "language": "python",
   "name": "python3"
  },
  "language_info": {
   "codemirror_mode": {
    "name": "ipython",
    "version": 3
   },
   "file_extension": ".py",
   "mimetype": "text/x-python",
   "name": "python",
   "nbconvert_exporter": "python",
   "pygments_lexer": "ipython3",
   "version": "3.10.9"
  }
 },
 "nbformat": 4,
 "nbformat_minor": 5
}
