{
 "cells": [
  {
   "cell_type": "markdown",
   "id": "a369b3d4-6410-4c16-a30b-75f24b113b19",
   "metadata": {},
   "source": [
    "## Imports "
   ]
  },
  {
   "cell_type": "code",
   "execution_count": 151,
   "id": "9292b1f6-d929-4c72-b987-7f8f879207f1",
   "metadata": {},
   "outputs": [],
   "source": [
    "from requests import get\n",
    "from bs4 import BeautifulSoup\n",
    "import os\n",
    "import numpy as np"
   ]
  },
  {
   "cell_type": "markdown",
   "id": "7125bece-87b3-4019-9815-e19f8bb0176c",
   "metadata": {},
   "source": [
    "## First we begin by setting the url and request a reponse."
   ]
  },
  {
   "cell_type": "code",
   "execution_count": 57,
   "id": "4217d612-d6a1-4dd5-864e-8e2aa3821480",
   "metadata": {},
   "outputs": [],
   "source": [
    "url = 'https://codeup.com/blog/'\n",
    "headers = {'User-Agent': 'Codeup Data Science'} # Some websites don't accept the pyhon-requests default user-agent\n",
    "response = get(url, headers=headers)"
   ]
  },
  {
   "cell_type": "code",
   "execution_count": 58,
   "id": "12cb6e8a-a1ae-48f9-a0ff-c8378297c608",
   "metadata": {},
   "outputs": [
    {
     "name": "stdout",
     "output_type": "stream",
     "text": [
      "<Response [200]>\n"
     ]
    }
   ],
   "source": [
    "# Check the response\n",
    "print(response_)"
   ]
  },
  {
   "cell_type": "code",
   "execution_count": 59,
   "id": "40f05119-14cd-4a92-900a-07c76c68600c",
   "metadata": {},
   "outputs": [
    {
     "data": {
      "text/plain": [
       "<Response [200]>"
      ]
     },
     "execution_count": 59,
     "metadata": {},
     "output_type": "execute_result"
    }
   ],
   "source": [
    "response"
   ]
  },
  {
   "cell_type": "code",
   "execution_count": 60,
   "id": "6640742e-9025-4f28-a170-fe4464f0aafc",
   "metadata": {},
   "outputs": [],
   "source": [
    "#repsonse code 200 = Good?, of https://http.cat"
   ]
  },
  {
   "cell_type": "markdown",
   "id": "3a4c3a22-e2c6-4c59-913a-863fc767ba61",
   "metadata": {},
   "source": [
    "### Now lets add it to beautiful soup"
   ]
  },
  {
   "cell_type": "code",
   "execution_count": 61,
   "id": "124f9e4e-6084-420d-aede-32d60598e8d6",
   "metadata": {},
   "outputs": [],
   "source": [
    "soup = BeautifulSoup(response.content, 'html.parser')"
   ]
  },
  {
   "cell_type": "code",
   "execution_count": 64,
   "id": "627ae42a-0293-486d-a81b-38185527957f",
   "metadata": {},
   "outputs": [
    {
     "data": {
      "text/plain": [
       "'Women in tech: Panelist Spotlight – Magdalena Rahn'"
      ]
     },
     "execution_count": 64,
     "metadata": {},
     "output_type": "execute_result"
    }
   ],
   "source": [
    "# Testing out some soup\n",
    "soup_.h1.text"
   ]
  },
  {
   "cell_type": "code",
   "execution_count": 81,
   "id": "84e62daa-4e15-4dea-bc9f-17007021ac02",
   "metadata": {},
   "outputs": [
    {
     "data": {
      "text/plain": [
       "[]"
      ]
     },
     "execution_count": 81,
     "metadata": {},
     "output_type": "execute_result"
    }
   ],
   "source": [
    "soup.find_all(soup.h2.a['href'])"
   ]
  },
  {
   "cell_type": "code",
   "execution_count": 86,
   "id": "4fe869af-21a6-45ff-be4d-cd7ca3e0db77",
   "metadata": {},
   "outputs": [
    {
     "data": {
      "text/plain": [
       "[<h2 class=\"entry-title\"><a href=\"https://codeup.com/featured/women-in-tech-panelist-spotlight/\">Women in tech: Panelist Spotlight – Magdalena Rahn</a></h2>,\n",
       " <h2 class=\"entry-title\"><a href=\"https://codeup.com/featured/women-in-tech-rachel-robbins-mayhill/\">Women in tech: Panelist Spotlight – Rachel Robbins-Mayhill</a></h2>,\n",
       " <h2 class=\"entry-title\"><a href=\"https://codeup.com/codeup-news/women-in-tech-panelist-spotlight-sarah-mellor/\">Women in Tech: Panelist Spotlight – Sarah Mellor</a></h2>,\n",
       " <h2 class=\"entry-title\"><a href=\"https://codeup.com/events/women-in-tech-madeleine/\">Women in Tech: Panelist Spotlight – Madeleine Capper</a></h2>,\n",
       " <h2 class=\"entry-title\"><a href=\"https://codeup.com/codeup-news/panelist-spotlight-4/\">Black Excellence in Tech: Panelist Spotlight – Wilmarie De La Cruz Mejia</a></h2>,\n",
       " <h2 class=\"entry-title\"><a href=\"https://codeup.com/events/black-excellence-in-tech-panelist-spotlight-stephanie-jones/\">Black excellence in tech: Panelist Spotlight – Stephanie Jones</a></h2>,\n",
       " <h2 style=\"text-align: center;\">Git <strong>Codeup</strong>dates</h2>]"
      ]
     },
     "execution_count": 86,
     "metadata": {},
     "output_type": "execute_result"
    }
   ],
   "source": [
    "soup.find_all('h2')"
   ]
  },
  {
   "cell_type": "code",
   "execution_count": 87,
   "id": "92217890-f9a2-43fb-b591-b7d721596a51",
   "metadata": {},
   "outputs": [],
   "source": [
    "links = [a['href'] for h2 in soup.find_all('h2') for a in h2.find_all('a')]"
   ]
  },
  {
   "cell_type": "code",
   "execution_count": 88,
   "id": "3e9867f3-2d22-4b97-88ad-aebb989627b3",
   "metadata": {},
   "outputs": [
    {
     "data": {
      "text/plain": [
       "['https://codeup.com/featured/women-in-tech-panelist-spotlight/',\n",
       " 'https://codeup.com/featured/women-in-tech-rachel-robbins-mayhill/',\n",
       " 'https://codeup.com/codeup-news/women-in-tech-panelist-spotlight-sarah-mellor/',\n",
       " 'https://codeup.com/events/women-in-tech-madeleine/',\n",
       " 'https://codeup.com/codeup-news/panelist-spotlight-4/',\n",
       " 'https://codeup.com/events/black-excellence-in-tech-panelist-spotlight-stephanie-jones/']"
      ]
     },
     "execution_count": 88,
     "metadata": {},
     "output_type": "execute_result"
    }
   ],
   "source": [
    "links"
   ]
  },
  {
   "cell_type": "markdown",
   "id": "a447cbf3-c6e4-47fd-8cbd-33a96e1359ba",
   "metadata": {},
   "source": [
    "## Now lets check what it looks like at one of these sites on a individual bases "
   ]
  },
  {
   "cell_type": "code",
   "execution_count": 95,
   "id": "c3efa529-28a7-472a-86ac-c90ab9b01093",
   "metadata": {},
   "outputs": [],
   "source": [
    "url_ = links[0]"
   ]
  },
  {
   "cell_type": "code",
   "execution_count": 96,
   "id": "345499c8-e003-4414-8f76-7a6b075f3fc5",
   "metadata": {},
   "outputs": [],
   "source": [
    "response = get(url_, headers=headers)"
   ]
  },
  {
   "cell_type": "code",
   "execution_count": 102,
   "id": "189f6a43-70c1-47f6-82cf-12168af21412",
   "metadata": {},
   "outputs": [],
   "source": [
    "soup_ = BeautifulSoup(response.content)"
   ]
  },
  {
   "cell_type": "code",
   "execution_count": 106,
   "id": "c490bdad-ac16-4367-a6f4-1c228f1b430c",
   "metadata": {},
   "outputs": [],
   "source": [
    "# hrab the title from the blog post\n",
    "blog_title = soup_.h1.text"
   ]
  },
  {
   "cell_type": "code",
   "execution_count": 133,
   "id": "be646eb6-7c2b-4336-ac16-0c509240257d",
   "metadata": {},
   "outputs": [],
   "source": [
    "cleaned_text = soup_.find(class_=\"entry-content\").text.replace('\\n',' ').strip()"
   ]
  },
  {
   "cell_type": "code",
   "execution_count": 134,
   "id": "9ea2b5ed-ec10-4f88-806c-ee3ed99153cb",
   "metadata": {},
   "outputs": [
    {
     "data": {
      "text/plain": [
       "'Women in tech: Panelist Spotlight – Magdalena Rahn Codeup is hosting a Women in Tech Panel in honor of Women’s History Month on March 29th, 2023! To further celebrate, we’d like to spotlight each of our panelists leading up to the discussion to learn a bit about their respective experiences as women in the tech industry!  Meet Magdalena! Magdalena Rahn is a current Codeup student in a Data Science cohort in San Antonio, Texas. She has a professional background in cross-cultural communications, international business development, the wine industry and journalism. After serving in the US Navy, she decided to complement her professional skill set by attending the Data Science program at Codeup; she is set to graduate in March 2023. Magdalena is fluent in French, Bulgarian, Chinese-Mandarin, Spanish and Italian. We asked Magdalena how Codeup impacted her career, and she replied “Codeup has provided a solid foundation in analytical processes, programming and data science methods, and it’s been an encouragement to have such supportive instructors and wonderful classmates.” Don’t forget to tune in on March 29th to sit in on an insightful conversation with Magdalena.'"
      ]
     },
     "execution_count": 134,
     "metadata": {},
     "output_type": "execute_result"
    }
   ],
   "source": [
    "cleaned_text"
   ]
  },
  {
   "cell_type": "markdown",
   "id": "98b4ccf0-1024-41b2-abe5-20bc91d77512",
   "metadata": {},
   "source": [
    "### Now lets add this to a dictionary "
   ]
  },
  {
   "cell_type": "code",
   "execution_count": 135,
   "id": "1d36aa94-d820-47ad-bc41-b0a708dfd22a",
   "metadata": {},
   "outputs": [],
   "source": [
    "sample_dict= dict()"
   ]
  },
  {
   "cell_type": "code",
   "execution_count": 137,
   "id": "c05d6bb9-c155-4e79-b206-dda48bc04061",
   "metadata": {},
   "outputs": [],
   "source": [
    "# add title to title \n",
    "\n",
    "sample_dict['title'] = soup_.h1.text\n",
    "sample_dict['content'] = soup_.find(class_=\"entry-content\").text.replace('\\n',' ').strip()\n"
   ]
  },
  {
   "cell_type": "markdown",
   "id": "19cff576-e3c2-42e4-b597-110f70071f64",
   "metadata": {},
   "source": [
    "Now lets make do this in a function "
   ]
  },
  {
   "cell_type": "code",
   "execution_count": 147,
   "id": "ac731455-a413-44bc-99c6-c01f87e83196",
   "metadata": {},
   "outputs": [
    {
     "data": {
      "text/plain": [
       "6"
      ]
     },
     "execution_count": 147,
     "metadata": {},
     "output_type": "execute_result"
    }
   ],
   "source": [
    "len(links)"
   ]
  },
  {
   "cell_type": "code",
   "execution_count": 221,
   "id": "2f52ae31-ef39-486e-8ed6-3ff9cfa9b581",
   "metadata": {},
   "outputs": [
    {
     "name": "stdout",
     "output_type": "stream",
     "text": [
      "URL: https://codeup.com/featured/women-in-tech-panelist-spotlight/, Status Code: 200\n",
      "URL: https://codeup.com/featured/women-in-tech-rachel-robbins-mayhill/, Status Code: 200\n",
      "URL: https://codeup.com/codeup-news/women-in-tech-panelist-spotlight-sarah-mellor/, Status Code: 200\n",
      "URL: https://codeup.com/events/women-in-tech-madeleine/, Status Code: 200\n",
      "URL: https://codeup.com/codeup-news/panelist-spotlight-4/, Status Code: 200\n",
      "URL: https://codeup.com/events/black-excellence-in-tech-panelist-spotlight-stephanie-jones/, Status Code: 200\n"
     ]
    }
   ],
   "source": [
    "# First we will get a reponse for each url \n",
    "\n",
    "\n",
    "def create_response_dict(links, headers):\n",
    "    response_dict = {}\n",
    "\n",
    "    for counter, webpages in enumerate(links):\n",
    "        response = requests.get(webpages, headers=headers)\n",
    "        response_dict[f'response{counter}'] = response\n",
    "\n",
    "        # Print the URLs and response status code\n",
    "        print(f\"URL: {webpages}, Status Code: {response.status_code}\")\n",
    "\n",
    "    return response_dict\n"
   ]
  },
  {
   "cell_type": "code",
   "execution_count": 222,
   "id": "1c2da638-465f-44c4-bef1-23ade11e2c24",
   "metadata": {},
   "outputs": [
    {
     "data": {
      "text/plain": [
       "dict_values([<Response [200]>, <Response [200]>, <Response [200]>, <Response [200]>, <Response [200]>, <Response [200]>])"
      ]
     },
     "execution_count": 222,
     "metadata": {},
     "output_type": "execute_result"
    }
   ],
   "source": [
    "response_dict.values()"
   ]
  },
  {
   "cell_type": "code",
   "execution_count": null,
   "id": "4ba8199f-392b-4e33-bf0f-3c915f3b3259",
   "metadata": {},
   "outputs": [],
   "source": [
    "from bs4 import BeautifulSoup\n",
    "\n",
    "def create_soup_dict(response_dict):\n",
    "    soup_dict = {}\n",
    "\n",
    "    for counter, response in enumerate(response_dict.values()):\n",
    "        soup_dict[f'soup{counter}'] = BeautifulSoup(response.content, 'html.parser')\n",
    "\n",
    "    return soup_dict\n"
   ]
  },
  {
   "cell_type": "code",
   "execution_count": 225,
   "id": "1d72fab0-bbe9-4649-95bb-66c84fd2e2fd",
   "metadata": {},
   "outputs": [],
   "source": [
    "soup_dict = {}\n",
    "\n",
    "for counter, response in enumerate(response_dict.values()):\n",
    "    soup_dict[f'soup{counter}'] = BeautifulSoup(response.content, 'html.parser')\n"
   ]
  },
  {
   "cell_type": "code",
   "execution_count": 233,
   "id": "91af5fe8-07ef-4896-9a07-5b88492131ad",
   "metadata": {},
   "outputs": [],
   "source": [
    "def create_blog_dict(soup_dict):\n",
    "    blog_dict = {}\n",
    "\n",
    "    for counter, soup in enumerate(soup_dict.values()):\n",
    "        title = soup.h1.text\n",
    "        content = soup.find(class_=\"entry-content\").text.replace('\\n', ' ').strip()\n",
    "\n",
    "        blog_dict[f'title{counter}'] = title\n",
    "        blog_dict[f'content{counter}'] = content\n",
    "\n",
    "        # Optional: Print the title and content for each BeautifulSoup object\n",
    "        print(f\"title{counter}: {blog_dict[f'title{counter}']}\")\n",
    "        print(f\"content{counter}: {blog_dict[f'content{counter}']}\")\n",
    "\n",
    "    return blog_dict"
   ]
  },
  {
   "cell_type": "code",
   "execution_count": 234,
   "id": "715bc2aa-55f8-4bb1-8dc5-09de5ad81bfc",
   "metadata": {
    "collapsed": true,
    "jupyter": {
     "outputs_hidden": true
    },
    "tags": []
   },
   "outputs": [
    {
     "name": "stdout",
     "output_type": "stream",
     "text": [
      "title0: Women in tech: Panelist Spotlight – Magdalena Rahn\n",
      "content0: Women in tech: Panelist Spotlight – Magdalena Rahn Codeup is hosting a Women in Tech Panel in honor of Women’s History Month on March 29th, 2023! To further celebrate, we’d like to spotlight each of our panelists leading up to the discussion to learn a bit about their respective experiences as women in the tech industry!  Meet Magdalena! Magdalena Rahn is a current Codeup student in a Data Science cohort in San Antonio, Texas. She has a professional background in cross-cultural communications, international business development, the wine industry and journalism. After serving in the US Navy, she decided to complement her professional skill set by attending the Data Science program at Codeup; she is set to graduate in March 2023. Magdalena is fluent in French, Bulgarian, Chinese-Mandarin, Spanish and Italian. We asked Magdalena how Codeup impacted her career, and she replied “Codeup has provided a solid foundation in analytical processes, programming and data science methods, and it’s been an encouragement to have such supportive instructors and wonderful classmates.” Don’t forget to tune in on March 29th to sit in on an insightful conversation with Magdalena.\n",
      "title1: Women in tech: Panelist Spotlight – Rachel Robbins-Mayhill\n",
      "content1: Women in tech: Panelist Spotlight – Rachel Robbins-Mayhill Codeup is hosting a Women in Tech Panel in honor of Women’s History Month on March 29th, 2023! To further celebrate, we’d like to spotlight each of our panelists leading up to the discussion to learn a bit about their respective experiences as women in the tech industry! Meet Rachel!  Rachel Robbins-Mayhill is a Decision Science Analyst I in San Antonio, Texas. Rachel has had a varied career that includes counseling, teaching, training, community development, and military operations. Her focus has always been on assessing needs, identifying solutions, and educating individuals and groups on aligning needs and solutions in different contexts. Rachel’s passion for data science stems from her belief that data is a powerful tool for communicating patterns that can lead to hope and growth in the future. In June 2022, Rachel graduated from Codeup’s Innis cohort, where she honed her skills in data science. Shortly after, she started working as a Data Science Technical Writer with Apex Systems as a Contractor for USAA in July 2022. Her unconventional role allowed her to understand where her skills could be best utilized to support USAA in a non-contract role. Rachel recently joined USAA’s Data Science Delivery team as a Decision Science Analyst I in February 2023. The team is focused on delivering machine learning models for fraud prevention, and Rachel’s particular role centers around providing strategic process solutions for the team in collaboration with Operational and Model Risk components. In addition to her career, Rachel is currently pursuing a master’s degree in Applied Data Science from Syracuse University, further expanding her knowledge and skills in the field. Rachel is passionate about collaborating with individuals who share her belief in the potential of others and strive to achieve growth through logical, informed action. She welcomes LinkedIn connections and is excited about supporting the network of CodeUp alumni! We asked Rachel how Codeup impacted her career, and she replied “Codeup delivered a comprehensive education in all facets of the data science pipeline, laying a strong foundation for me to build upon. Through repeated hands-on practice, I developed a reliable process that was immediately applicable in my job. Collaborative group projects were instrumental in helping me hone my skills in project management, allowing me to navigate complex data science projects with comfortability. Thanks to this invaluable experience, I was able to make significant strides in my career within just six months of graduating from Codeup.” Don’t forget to tune in on March 29th to sit in on an insightful conversation.\n",
      "title2: Women in Tech: Panelist Spotlight – Sarah Mellor\n",
      "content2: Women in tech: Panelist Spotlight – Sarah Mellor  Codeup is hosting a Women in Tech Panel in honor of Women’s History Month on March 29th, 2023! To further celebrate, we’d like to spotlight each of our panelists leading up to the discussion to learn a bit about their respective experiences as women in the tech industry! Meet Sarah! Sarah Mellor currently works as the Director of People Operations. She joined Codeup four and a half years ago as an Admissions Manager. She went on to build out and lead the Marketing and Admissions team, while picking up People Ops tasks and projects here and there until moving over to lead the People Ops team two years ago. Prior to Codeup, she worked at education-focused non-profits in Washington, DC and Boulder, Colorado. She graduated from Wake Forest University. We asked Sarah how Codeup has impacted her career, and her response was “I have absolutely loved having the privilege to grow alongside Codeup. In my time here across multiple different roles and departments, I’ve seen a lot of change. The consistent things have always been the high quality of passionate and hardworking people I get to work with; the impactful mission we get to work on; and the inspiring students who trust us with their career change.” Don’t forget to tune in on March 29th to sit in on an insightful conversation.\n",
      "title3: Women in Tech: Panelist Spotlight – Madeleine Capper\n",
      "content3: Women in tech: Panelist Spotlight – Madeleine Capper Codeup is hosting a Women in Tech Panel in honor of Women’s History Month on March 29th, 2023! To further celebrate, we’d like to spotlight each of our panelists leading up to the discussion to learn a bit about their respective experiences as women in the tech industry! Meet Madeleine! Madeleine Capper is a Data Scientist in San Antonio, Texas. A long-standing San Antonio resident, she studied mathematics at the University of Texas San Antonio and has worked as a Data Scientist for Booz Allen Hamilton. Madeleine currently teaches Data Science at Codeup, where she works daily with burgeoning data professionals to help them actualize their career aspirations through technical education. Madeleine attended Codeup as a student in early 2019 as a pupil in the very first Codeup Data Science cohort. The program proved immediately effective and she was the first student to obtain a data career out of the program. After working at Booz Allen Hamilton, Madeleine’s passion for education in conjunction with her appreciation for Codeup’s capacity for transformative life change brought her back to the institution in an instructional capacity, where she has been teaching for two years. Don’t forget to tune in on March 29th to sit in on an insightful conversation.\n",
      "title4: Black Excellence in Tech: Panelist Spotlight – Wilmarie De La Cruz Mejia\n",
      "content4: Black excellence in tech: Panelist Spotlight – Wilmarie De La Cruz Mejia  Codeup is hosting a Black Excellence in Tech Panel in honor of Black History Month on February 22, 2023! To further celebrate, we’d like to spotlight each of our panelists leading up to the discussion to learn a bit about their respective experiences as black leaders in the tech industry!   Meet Wilmarie! Wilmarie De La Cruz Mejia is a current Codeup student on the path to becoming a Full-Stack Web Developer at our Dallas, TX campus.  Wilmarie is a veteran expanding her knowledge of programming languages and technologies on her journey with Codeup.  We asked Wilmarie to share more about her experience at Codeup. She shares, “I was able to meet other people who were passionate about coding and be in a positive learning environment.” We hope you can join us on February 22nd to sit in on an insightful conversation with Wilmarie and all of our panelists!\n",
      "title5: Black excellence in tech: Panelist Spotlight – Stephanie Jones\n",
      "content5: Black excellence in tech: Panelist Spotlight – Stephanie Jones Codeup is hosting our second Black Excellence in Tech Panel in honor of Black History Month on February 22, 2023! To further celebrate, we’d like to spotlight each of our panelists leading up to the discussion to learn a bit about their respective experiences as black leaders in the tech industry!   Meet Stephanie!  Stephanie Jones is an Alumna of Codeup’s Data Science Program (March 2022) and currently works as a Business Intelligence Developer for Victory Capital, a global investment management firm based in San Antonio, TX.  Stephanie is passionate about visual storytelling and, as a late “tech bloomer,” is also an advocate for equitable access and educational opportunities in technology for underserved communities. We asked Stephanie to share more about her experience at Codeup. She shares, “I have always been a creative and Codeup opened up a world of possibilities by exposing me to advanced technical concepts and career opportunities.” Stephanie also speaks to the community of support in the program and beyond.  “The network and support from instructors, mentors, and peers began during the application phase (which was intense), before the program even started, and has carried over even after completing the program and entering into the workforce.” We hope you can join us on February 22nd to sit in on an insightful conversation with Stephanie and all of our panelists!\n"
     ]
    }
   ],
   "source": [
    "blog_post = create_blog_dict(soup_dict)"
   ]
  },
  {
   "cell_type": "code",
   "execution_count": 238,
   "id": "242cf6e6-048a-48fa-aec8-8911c0655c95",
   "metadata": {},
   "outputs": [],
   "source": [
    "def scrape_blogs(links, headers):\n",
    "    response_dict = {}\n",
    "    soup_dict = {}\n",
    "    blog_dict = {}\n",
    "\n",
    "    for counter, webpages in enumerate(links):\n",
    "        response = get(webpages, headers=headers)\n",
    "        response_dict[f'response{counter}'] = response\n",
    "\n",
    "        # Print the URLs and response status code\n",
    "        print(f\"URL: {webpages}, Status Code: {response.status_code}\")\n",
    "\n",
    "        soup_dict[f'soup{counter}'] = BeautifulSoup(response.content, 'html.parser')\n",
    "\n",
    "    for counter, soup in enumerate(soup_dict.values()):\n",
    "        title = soup.h1.text\n",
    "        content = soup.find(class_=\"entry-content\").text.replace('\\n', ' ').strip()\n",
    "\n",
    "        blog_dict[f'title{counter}'] = title\n",
    "        blog_dict[f'content{counter}'] = content\n",
    "\n",
    "        # Optional: Print the title and content for each BeautifulSoup object\n",
    "        print(f\"title{counter}: {blog_dict[f'title{counter}']}\")\n",
    "        print(f\"content{counter}: {blog_dict[f'content{counter}']}\")\n",
    "\n",
    "    return blog_dict"
   ]
  },
  {
   "cell_type": "code",
   "execution_count": 239,
   "id": "50d17282-265b-4d3d-a240-99d0b4b8172a",
   "metadata": {},
   "outputs": [
    {
     "name": "stdout",
     "output_type": "stream",
     "text": [
      "URL: https://codeup.com/featured/women-in-tech-panelist-spotlight/, Status Code: 200\n",
      "URL: https://codeup.com/featured/women-in-tech-rachel-robbins-mayhill/, Status Code: 200\n",
      "URL: https://codeup.com/codeup-news/women-in-tech-panelist-spotlight-sarah-mellor/, Status Code: 200\n",
      "URL: https://codeup.com/events/women-in-tech-madeleine/, Status Code: 200\n",
      "URL: https://codeup.com/codeup-news/panelist-spotlight-4/, Status Code: 200\n",
      "URL: https://codeup.com/events/black-excellence-in-tech-panelist-spotlight-stephanie-jones/, Status Code: 200\n",
      "title0: Women in tech: Panelist Spotlight – Magdalena Rahn\n",
      "content0: Women in tech: Panelist Spotlight – Magdalena Rahn Codeup is hosting a Women in Tech Panel in honor of Women’s History Month on March 29th, 2023! To further celebrate, we’d like to spotlight each of our panelists leading up to the discussion to learn a bit about their respective experiences as women in the tech industry!  Meet Magdalena! Magdalena Rahn is a current Codeup student in a Data Science cohort in San Antonio, Texas. She has a professional background in cross-cultural communications, international business development, the wine industry and journalism. After serving in the US Navy, she decided to complement her professional skill set by attending the Data Science program at Codeup; she is set to graduate in March 2023. Magdalena is fluent in French, Bulgarian, Chinese-Mandarin, Spanish and Italian. We asked Magdalena how Codeup impacted her career, and she replied “Codeup has provided a solid foundation in analytical processes, programming and data science methods, and it’s been an encouragement to have such supportive instructors and wonderful classmates.” Don’t forget to tune in on March 29th to sit in on an insightful conversation with Magdalena.\n",
      "title1: Women in tech: Panelist Spotlight – Rachel Robbins-Mayhill\n",
      "content1: Women in tech: Panelist Spotlight – Rachel Robbins-Mayhill Codeup is hosting a Women in Tech Panel in honor of Women’s History Month on March 29th, 2023! To further celebrate, we’d like to spotlight each of our panelists leading up to the discussion to learn a bit about their respective experiences as women in the tech industry! Meet Rachel!  Rachel Robbins-Mayhill is a Decision Science Analyst I in San Antonio, Texas. Rachel has had a varied career that includes counseling, teaching, training, community development, and military operations. Her focus has always been on assessing needs, identifying solutions, and educating individuals and groups on aligning needs and solutions in different contexts. Rachel’s passion for data science stems from her belief that data is a powerful tool for communicating patterns that can lead to hope and growth in the future. In June 2022, Rachel graduated from Codeup’s Innis cohort, where she honed her skills in data science. Shortly after, she started working as a Data Science Technical Writer with Apex Systems as a Contractor for USAA in July 2022. Her unconventional role allowed her to understand where her skills could be best utilized to support USAA in a non-contract role. Rachel recently joined USAA’s Data Science Delivery team as a Decision Science Analyst I in February 2023. The team is focused on delivering machine learning models for fraud prevention, and Rachel’s particular role centers around providing strategic process solutions for the team in collaboration with Operational and Model Risk components. In addition to her career, Rachel is currently pursuing a master’s degree in Applied Data Science from Syracuse University, further expanding her knowledge and skills in the field. Rachel is passionate about collaborating with individuals who share her belief in the potential of others and strive to achieve growth through logical, informed action. She welcomes LinkedIn connections and is excited about supporting the network of CodeUp alumni! We asked Rachel how Codeup impacted her career, and she replied “Codeup delivered a comprehensive education in all facets of the data science pipeline, laying a strong foundation for me to build upon. Through repeated hands-on practice, I developed a reliable process that was immediately applicable in my job. Collaborative group projects were instrumental in helping me hone my skills in project management, allowing me to navigate complex data science projects with comfortability. Thanks to this invaluable experience, I was able to make significant strides in my career within just six months of graduating from Codeup.” Don’t forget to tune in on March 29th to sit in on an insightful conversation.\n",
      "title2: Women in Tech: Panelist Spotlight – Sarah Mellor\n",
      "content2: Women in tech: Panelist Spotlight – Sarah Mellor  Codeup is hosting a Women in Tech Panel in honor of Women’s History Month on March 29th, 2023! To further celebrate, we’d like to spotlight each of our panelists leading up to the discussion to learn a bit about their respective experiences as women in the tech industry! Meet Sarah! Sarah Mellor currently works as the Director of People Operations. She joined Codeup four and a half years ago as an Admissions Manager. She went on to build out and lead the Marketing and Admissions team, while picking up People Ops tasks and projects here and there until moving over to lead the People Ops team two years ago. Prior to Codeup, she worked at education-focused non-profits in Washington, DC and Boulder, Colorado. She graduated from Wake Forest University. We asked Sarah how Codeup has impacted her career, and her response was “I have absolutely loved having the privilege to grow alongside Codeup. In my time here across multiple different roles and departments, I’ve seen a lot of change. The consistent things have always been the high quality of passionate and hardworking people I get to work with; the impactful mission we get to work on; and the inspiring students who trust us with their career change.” Don’t forget to tune in on March 29th to sit in on an insightful conversation.\n",
      "title3: Women in Tech: Panelist Spotlight – Madeleine Capper\n",
      "content3: Women in tech: Panelist Spotlight – Madeleine Capper Codeup is hosting a Women in Tech Panel in honor of Women’s History Month on March 29th, 2023! To further celebrate, we’d like to spotlight each of our panelists leading up to the discussion to learn a bit about their respective experiences as women in the tech industry! Meet Madeleine! Madeleine Capper is a Data Scientist in San Antonio, Texas. A long-standing San Antonio resident, she studied mathematics at the University of Texas San Antonio and has worked as a Data Scientist for Booz Allen Hamilton. Madeleine currently teaches Data Science at Codeup, where she works daily with burgeoning data professionals to help them actualize their career aspirations through technical education. Madeleine attended Codeup as a student in early 2019 as a pupil in the very first Codeup Data Science cohort. The program proved immediately effective and she was the first student to obtain a data career out of the program. After working at Booz Allen Hamilton, Madeleine’s passion for education in conjunction with her appreciation for Codeup’s capacity for transformative life change brought her back to the institution in an instructional capacity, where she has been teaching for two years. Don’t forget to tune in on March 29th to sit in on an insightful conversation.\n",
      "title4: Black Excellence in Tech: Panelist Spotlight – Wilmarie De La Cruz Mejia\n",
      "content4: Black excellence in tech: Panelist Spotlight – Wilmarie De La Cruz Mejia  Codeup is hosting a Black Excellence in Tech Panel in honor of Black History Month on February 22, 2023! To further celebrate, we’d like to spotlight each of our panelists leading up to the discussion to learn a bit about their respective experiences as black leaders in the tech industry!   Meet Wilmarie! Wilmarie De La Cruz Mejia is a current Codeup student on the path to becoming a Full-Stack Web Developer at our Dallas, TX campus.  Wilmarie is a veteran expanding her knowledge of programming languages and technologies on her journey with Codeup.  We asked Wilmarie to share more about her experience at Codeup. She shares, “I was able to meet other people who were passionate about coding and be in a positive learning environment.” We hope you can join us on February 22nd to sit in on an insightful conversation with Wilmarie and all of our panelists!\n",
      "title5: Black excellence in tech: Panelist Spotlight – Stephanie Jones\n",
      "content5: Black excellence in tech: Panelist Spotlight – Stephanie Jones Codeup is hosting our second Black Excellence in Tech Panel in honor of Black History Month on February 22, 2023! To further celebrate, we’d like to spotlight each of our panelists leading up to the discussion to learn a bit about their respective experiences as black leaders in the tech industry!   Meet Stephanie!  Stephanie Jones is an Alumna of Codeup’s Data Science Program (March 2022) and currently works as a Business Intelligence Developer for Victory Capital, a global investment management firm based in San Antonio, TX.  Stephanie is passionate about visual storytelling and, as a late “tech bloomer,” is also an advocate for equitable access and educational opportunities in technology for underserved communities. We asked Stephanie to share more about her experience at Codeup. She shares, “I have always been a creative and Codeup opened up a world of possibilities by exposing me to advanced technical concepts and career opportunities.” Stephanie also speaks to the community of support in the program and beyond.  “The network and support from instructors, mentors, and peers began during the application phase (which was intense), before the program even started, and has carried over even after completing the program and entering into the workforce.” We hope you can join us on February 22nd to sit in on an insightful conversation with Stephanie and all of our panelists!\n"
     ]
    }
   ],
   "source": [
    "test = scrape_blogs(links, headers)"
   ]
  }
 ],
 "metadata": {
  "kernelspec": {
   "display_name": "Python 3 (ipykernel)",
   "language": "python",
   "name": "python3"
  },
  "language_info": {
   "codemirror_mode": {
    "name": "ipython",
    "version": 3
   },
   "file_extension": ".py",
   "mimetype": "text/x-python",
   "name": "python",
   "nbconvert_exporter": "python",
   "pygments_lexer": "ipython3",
   "version": "3.10.9"
  }
 },
 "nbformat": 4,
 "nbformat_minor": 5
}
