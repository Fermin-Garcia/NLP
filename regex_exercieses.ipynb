{
 "cells": [
  {
   "cell_type": "markdown",
   "id": "cde9f12f-a1d4-4c0d-acb3-53e6a8fa5e0e",
   "metadata": {},
   "source": [
    "#### Write a function named is_vowel. It should accept a string as input and use a regular expression to determine if the passed string is a vowel. While not explicity mentioned in the lesson, you can treat the result of re.search as a boolean value that indicates whether or not the regular expression matches the given string."
   ]
  },
  {
   "cell_type": "code",
   "execution_count": 1,
   "id": "5df2b9e7-317e-4f5f-8268-60c7405e0868",
   "metadata": {},
   "outputs": [],
   "source": [
    "import re"
   ]
  },
  {
   "cell_type": "code",
   "execution_count": 14,
   "id": "a68f6e3e-2c01-47b3-bfad-4c038ba1ac50",
   "metadata": {},
   "outputs": [],
   "source": [
    "subject = 'the bird may swim in the lake but my daddy owns the lake.'\n",
    "\n",
    "def is_vowl(string):\n",
    "    '''\n",
    "    string is a string that contains a vowel. will return True if the string contains a vowel, False otherwise.\n",
    "    '''\n",
    "    regex = r'[AEIOUaeiou]{1}$'\n",
    "\n",
    "    re.search(regex, string)\n",
    "    return bool(re.search(regex, string))"
   ]
  },
  {
   "cell_type": "code",
   "execution_count": 18,
   "id": "2c7a3a01-539d-44e2-9fe8-62b5f61b0c08",
   "metadata": {},
   "outputs": [
    {
     "data": {
      "text/plain": [
       "False"
      ]
     },
     "execution_count": 18,
     "metadata": {},
     "output_type": "execute_result"
    }
   ],
   "source": [
    "is_vowl(string='')"
   ]
  },
  {
   "cell_type": "markdown",
   "id": "05aafde1-9ec2-4d36-80b3-6c60884c1da8",
   "metadata": {},
   "source": [
    "#### Write a function named is_valid_username that accepts a string as input. A valid username starts with a lowercase letter, and only consists of lowercase letters, numbers, or the _ character. It should also be no longer than 32 characters. The function should return either True or False depending on whether the passed string is a valid username."
   ]
  },
  {
   "cell_type": "code",
   "execution_count": 67,
   "id": "73513ba1-2353-4877-a3b4-3e7095b25c9b",
   "metadata": {},
   "outputs": [],
   "source": [
    "def is_valid_username(username):\n",
    "    '''\n",
    "    accepts username and returns True if username is a valid username\n",
    "    '''\n",
    "    regex = r'^[a-z][a-z0-9_]{0,31}$'\n",
    "    return bool(re.match(regex, username))"
   ]
  },
  {
   "cell_type": "code",
   "execution_count": 70,
   "id": "cc714fb8-5732-4dd0-a679-657820dd9835",
   "metadata": {},
   "outputs": [
    {
     "data": {
      "text/plain": [
       "True"
      ]
     },
     "execution_count": 70,
     "metadata": {},
     "output_type": "execute_result"
    }
   ],
   "source": [
    "is_valid_username(username='bigfoot_is_realz_2121')"
   ]
  },
  {
   "cell_type": "markdown",
   "id": "faafee45-a0a9-40e0-89cc-cae0e9689b67",
   "metadata": {},
   "source": [
    "## Write a regular expression to capture phone numbers. It should match all of the following:\n",
    "\n",
    "\n",
    "    (210) 867 5309\n",
    "    +1 210.867.5309\n",
    "    867-5309\n",
    "    210-867-5309"
   ]
  },
  {
   "cell_type": "code",
   "execution_count": 53,
   "id": "9ff82c80-6f86-440c-b10f-69fa31c24e91",
   "metadata": {},
   "outputs": [
    {
     "data": {
      "text/plain": [
       "['+1 210.867.5309']"
      ]
     },
     "execution_count": 53,
     "metadata": {},
     "output_type": "execute_result"
    }
   ],
   "source": [
    "regex = r'(\\+?\\d+)?.(\\(?\\d{3}\\)?)'\n",
    "text = \"Please call me at (210) 867 5309 or +1 210.867.5309. My other number is 867-5309 or 210-867-5309.\"\n",
    "re.findall(regex, text)\n"
   ]
  },
  {
   "cell_type": "markdown",
   "id": "7a6e82df-8019-45ce-85ad-78f1a7d0138a",
   "metadata": {},
   "source": [
    "#### Use regular expressions to convert the dates below to the standardized year-month-day format.\n",
    "\n",
    "\n",
    "    02/04/19\n",
    "    02/05/19\n",
    "    02/06/19\n",
    "    02/07/19\n",
    "    02/08/19\n",
    "    02/09/19\n",
    "    02/10/19"
   ]
  },
  {
   "cell_type": "code",
   "execution_count": 54,
   "id": "8eeadf84-bd79-4b57-9cea-6a71e00d7523",
   "metadata": {},
   "outputs": [
    {
     "name": "stdout",
     "output_type": "stream",
     "text": [
      "2019-02-04\n",
      "2019-02-05\n",
      "2019-02-06\n",
      "2019-02-07\n",
      "2019-02-08\n",
      "2019-02-09\n",
      "2019-02-10\n"
     ]
    }
   ],
   "source": [
    "dates = [\n",
    "    \"02/04/19\",\n",
    "    \"02/05/19\",\n",
    "    \"02/06/19\",\n",
    "    \"02/07/19\",\n",
    "    \"02/08/19\",\n",
    "    \"02/09/19\",\n",
    "    \"02/10/19\",\n",
    "]\n",
    "\n",
    "def convert_date(date):\n",
    "    pattern = r'(\\d{2})/(\\d{2})/(\\d{2})'\n",
    "    match = re.match(pattern, date)\n",
    "    if match:\n",
    "        month, day, year = match.groups()\n",
    "        return f'20{year}-{month}-{day}'\n",
    "    return None\n",
    "\n",
    "converted_dates = [convert_date(date) for date in dates]\n",
    "print('\\n'.join(converted_dates))"
   ]
  },
  {
   "cell_type": "code",
   "execution_count": 58,
   "id": "e8aecf48-98f6-4e53-87da-541db8096073",
   "metadata": {},
   "outputs": [
    {
     "name": "stdout",
     "output_type": "stream",
     "text": [
      "Request Method: GET\n",
      "Request URI: /api/v1/sales?page=86\n",
      "Timestamp: 16/Apr/2019:193452+0000\n",
      "Protocol: HTTP/1.1\n",
      "Status Code: 200\n",
      "Response Size: 510348\n",
      "User Agent: python-requests/2.21.0\n",
      "IP Address: 97.105.19.58\n",
      "\n",
      "Request Method: POST\n",
      "Request URI: /users_accounts/file-upload\n",
      "Timestamp: 16/Apr/2019:193452+0000\n",
      "Protocol: HTTP/1.1\n",
      "Status Code: 201\n",
      "Response Size: 42\n",
      "User Agent: User-Agent: Mozilla/5.0 (X11; Fedora; Fedora; Linux x86_64) AppleWebKit/537.36 (KHTML, like Gecko) Chrome/73.0.3683.86 Safari/537.36\n",
      "IP Address: 97.105.19.58\n",
      "\n",
      "Request Method: GET\n",
      "Request URI: /api/v1/items?page=3\n",
      "Timestamp: 16/Apr/2019:193453+0000\n",
      "Protocol: HTTP/1.1\n",
      "Status Code: 429\n",
      "Response Size: 3561\n",
      "User Agent: python-requests/2.21.0\n",
      "IP Address: 97.105.19.58\n",
      "\n"
     ]
    }
   ],
   "source": [
    "logfile_lines = [\n",
    "    \"GET /api/v1/sales?page=86 [16/Apr/2019:193452+0000] HTTP/1.1 {200} 510348 \\\"python-requests/2.21.0\\\" 97.105.19.58\",\n",
    "    \"POST /users_accounts/file-upload [16/Apr/2019:193452+0000] HTTP/1.1 {201} 42 \\\"User-Agent: Mozilla/5.0 (X11; Fedora; Fedora; Linux x86_64) AppleWebKit/537.36 (KHTML, like Gecko) Chrome/73.0.3683.86 Safari/537.36\\\" 97.105.19.58\",\n",
    "    \"GET /api/v1/items?page=3 [16/Apr/2019:193453+0000] HTTP/1.1 {429} 3561 \\\"python-requests/2.21.0\\\" 97.105.19.58\",\n",
    "]\n",
    "\n",
    "pattern = r\"^(\\w+)\\s(.*?)\\s\\[(.*?)\\]\\s(.*?)\\s\\{(\\d+)\\}\\s(\\d+)\\s\\\"(.*?)\\\"\\s([\\d.]+)$\"\n",
    "\n",
    "for line in logfile_lines:\n",
    "    match = re.match(pattern, line)\n",
    "    if match:\n",
    "        request_method, request_uri, timestamp, protocol, status_code, response_size, user_agent, ip_address = match.groups()\n",
    "        print(f\"Request Method: {request_method}\\nRequest URI: {request_uri}\\nTimestamp: {timestamp}\\nProtocol: {protocol}\\nStatus Code: {status_code}\\nResponse Size: {response_size}\\nUser Agent: {user_agent}\\nIP Address: {ip_address}\\n\")\n"
   ]
  }
 ],
 "metadata": {
  "kernelspec": {
   "display_name": "Python 3 (ipykernel)",
   "language": "python",
   "name": "python3"
  },
  "language_info": {
   "codemirror_mode": {
    "name": "ipython",
    "version": 3
   },
   "file_extension": ".py",
   "mimetype": "text/x-python",
   "name": "python",
   "nbconvert_exporter": "python",
   "pygments_lexer": "ipython3",
   "version": "3.10.9"
  }
 },
 "nbformat": 4,
 "nbformat_minor": 5
}
